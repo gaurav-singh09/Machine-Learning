{
 "cells": [
  {
   "cell_type": "markdown",
   "id": "09f596fb",
   "metadata": {},
   "source": [
    "import numpy as np"
   ]
  },
  {
   "cell_type": "markdown",
   "id": "3a233b46",
   "metadata": {},
   "source": [
    "import matplotlib as mp\n"
   ]
  }
 ],
 "metadata": {
  "language_info": {
   "name": "python"
  }
 },
 "nbformat": 4,
 "nbformat_minor": 5
}
